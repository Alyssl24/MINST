{
  "nbformat": 4,
  "nbformat_minor": 0,
  "metadata": {
    "colab": {
      "provenance": [],
      "gpuType": "T4",
      "include_colab_link": true
    },
    "kernelspec": {
      "name": "python3",
      "display_name": "Python 3"
    },
    "language_info": {
      "name": "python"
    },
    "accelerator": "GPU"
  },
  "cells": [
    {
      "cell_type": "markdown",
      "metadata": {
        "id": "view-in-github",
        "colab_type": "text"
      },
      "source": [
        "<a href=\"https://colab.research.google.com/github/Alyssl24/MINST/blob/main/Interpolation.ipynb\" target=\"_parent\"><img src=\"https://colab.research.google.com/assets/colab-badge.svg\" alt=\"Open In Colab\"/></a>"
      ]
    },
    {
      "cell_type": "code",
      "execution_count": null,
      "metadata": {
        "id": "Sk0uUVLQyb6Z"
      },
      "outputs": [],
      "source": [
        "import torch\n",
        "from torch.utils.data import Dataset\n",
        "from torchvision import datasets\n",
        "from torchvision.transforms import ToTensor\n",
        "import matplotlib.pyplot as plt\n",
        "import torch.nn as nn\n",
        "import numpy as np\n",
        "import matplotlib.pyplot as plt\n",
        "import os"
      ]
    },
    {
      "cell_type": "code",
      "source": [
        "training_data = datasets.MNIST(\n",
        "    root=\"data\",\n",
        "    train=True,\n",
        "    download=True,\n",
        "    transform=ToTensor()\n",
        ")\n",
        "\n",
        "test_data = datasets.MNIST(\n",
        "    root=\"data\",\n",
        "    train=False,\n",
        "    download=True,\n",
        "    transform=ToTensor()\n",
        ")\n"
      ],
      "metadata": {
        "id": "E0CvPohIymA4"
      },
      "execution_count": null,
      "outputs": []
    },
    {
      "cell_type": "code",
      "source": [
        "from torch.utils.data import DataLoader #permet de parcourir\n",
        "batch_size_choose=32\n",
        "train_dataloader = DataLoader(training_data, batch_size=batch_size_choose, shuffle=True) #le shuffle permet de melanger le set de data\n",
        "test_dataloader = DataLoader(test_data, batch_size=batch_size_choose, shuffle=True)"
      ],
      "metadata": {
        "id": "2G-AVN3Vyqgi"
      },
      "execution_count": null,
      "outputs": []
    },
    {
      "cell_type": "code",
      "source": [
        "#fonction qui verifie si c correct ou nn\n",
        "def correct(output, target):\n",
        "    return torch.sum(output == target).item()"
      ],
      "metadata": {
        "id": "ac1XLQX0yq9e"
      },
      "execution_count": null,
      "outputs": []
    },
    {
      "cell_type": "code",
      "source": [
        "def correct2(output, target):\n",
        "    # Binarize the output and target to count the correct pixels\n",
        "    output_bin = torch.round(output)\n",
        "    target_bin = torch.round(target)\n",
        "    return torch.sum(output_bin == target_bin).item()"
      ],
      "metadata": {
        "id": "CXCV4G7wytDc"
      },
      "execution_count": null,
      "outputs": []
    },
    {
      "cell_type": "code",
      "source": [
        "#boucle qui traite chaques lots de données (data et target sont des listes)\n",
        "#donc en gros notre BD est separer en lot par le dataloader(qui s\"appelle batch)\n",
        "#puis chaque batch est traite par ses boucles simulatné car c des numpys.\n",
        "def train(data_loader, model, criterion, optimizer):\n",
        "    model.train()\n",
        "    num_batches = len(data_loader)\n",
        "\n",
        "    total_loss = 0\n",
        "    total_correct = 0\n",
        "    for data, target in data_loader:\n",
        "        # Do a forward pass\n",
        "\n",
        "        output,mu,log_var = model(data)\n",
        "\n",
        "        # Calculate the loss\n",
        "        target=model.flatt(data)\n",
        "        loss_kl=-0.5 * torch.sum(1 + log_var - mu.pow(2) - (log_var.exp()))\n",
        "        loss = criterion(output, target) + loss_kl\n",
        "\n",
        "        total_loss += loss\n",
        "\n",
        "        # Count number of correct digits\n",
        "\n",
        "        total_correct += correct(output,target)\n",
        "\n",
        "        # Backpropagation\n",
        "        loss.backward()\n",
        "        optimizer.step()\n",
        "        optimizer.zero_grad()\n",
        "    print(\"miaou\")\n",
        "    train_loss = total_loss/num_batches\n",
        "    accuracy = total_correct/(25088*len(data_loader))  # 25088 = len(ouput)*len(ouput[0])\n",
        "    print(f\"Average loss: {train_loss:7f}, accuracy: {accuracy:.2%}\")"
      ],
      "metadata": {
        "id": "_cS1QNa5yvGx"
      },
      "execution_count": null,
      "outputs": []
    },
    {
      "cell_type": "code",
      "source": [
        "#version ou j'essaie de recup les couches\n",
        "from collections import OrderedDict as OrderedDict\n",
        "#ordered dict c un dico ordonnée mais jrv pas a recup les couches encores\n",
        "class SimpleMLP(nn.Module):\n",
        "    def __init__(self):\n",
        "\n",
        "        super().__init__()\n",
        "        self.flatt=nn.Flatten()\n",
        "        self.line1=nn.Linear(28*28, 256)\n",
        "        self.relu=nn.ReLU()\n",
        "        self.line2=nn.Linear(256,64)\n",
        "        self.log_var=nn.Linear(64,2)\n",
        "        self.mu=nn.Linear(64,2)\n",
        "        self.line6=nn.Linear(2,64)\n",
        "        self.line3=nn.Linear(64,256)\n",
        "        self.line4=nn.Linear(256, 28*28)\n",
        "        self.dim2=0;\n",
        "        self.sig=nn.Sigmoid()\n",
        "#tsne\n",
        "    def encoder(self,x):\n",
        "        x=self.flatt(x)\n",
        "        x=self.line1(x)\n",
        "        x=self.relu(x)\n",
        "        x=self.line2(x)\n",
        "        x=self.relu(x)\n",
        "        return x\n",
        "\n",
        "    def decoder(self,x):\n",
        "        x=self.line6(x)\n",
        "        x=self.relu(x)\n",
        "        x=self.line3(x)\n",
        "        x=self.relu(x)\n",
        "        x=self.line4(x)\n",
        "        x=self.sig(x)\n",
        "        return x\n",
        "\n",
        "    def  reparameterize ( self, mu, log_var ):\n",
        "        # Calculer l'écart type par rapport à la variance log\n",
        "        std = torch.exp( 0.5 * log_var)\n",
        "        # randnlike fais une loi normale centrée réduite !!\n",
        "        #std en parametre c pour la taille\n",
        "        eps = torch.randn_like(std)\n",
        "        #loi normale formule\n",
        "        return mu+eps*std\n",
        "\n",
        "    def forward(self, x):\n",
        "       #x=nn.functional.normalize(x)\n",
        "        x=self.encoder(x)\n",
        "        mu = self.mu(x)\n",
        "        log_var = self.log_var(x)\n",
        "        z = self.reparameterize(mu, log_var)\n",
        "        z=self.decoder(z)\n",
        "        return z,mu,log_var"
      ],
      "metadata": {
        "id": "JfKdxptQyyXn"
      },
      "execution_count": null,
      "outputs": []
    },
    {
      "cell_type": "code",
      "source": [
        "#CREATION DE NOTRE MODELE\n",
        "model = SimpleMLP()\n",
        "print(model)"
      ],
      "metadata": {
        "colab": {
          "base_uri": "https://localhost:8080/"
        },
        "id": "BGxE431ky1zC",
        "outputId": "05c2be2e-8ceb-4620-b46e-c2dbcfff9174"
      },
      "execution_count": null,
      "outputs": [
        {
          "output_type": "stream",
          "name": "stdout",
          "text": [
            "SimpleMLP(\n",
            "  (flatt): Flatten(start_dim=1, end_dim=-1)\n",
            "  (line1): Linear(in_features=784, out_features=256, bias=True)\n",
            "  (relu): ReLU()\n",
            "  (line2): Linear(in_features=256, out_features=64, bias=True)\n",
            "  (log_var): Linear(in_features=64, out_features=2, bias=True)\n",
            "  (mu): Linear(in_features=64, out_features=2, bias=True)\n",
            "  (line6): Linear(in_features=2, out_features=64, bias=True)\n",
            "  (line3): Linear(in_features=64, out_features=256, bias=True)\n",
            "  (line4): Linear(in_features=256, out_features=784, bias=True)\n",
            "  (sig): Sigmoid()\n",
            ")\n"
          ]
        }
      ]
    },
    {
      "cell_type": "code",
      "source": [
        "criterion = nn.MSELoss(reduction='sum')    #pour l'instant on a choisit celle al est on a des bon resultat\n",
        "optimizer = torch.optim.Adam(model.parameters()) #on choisit lesquelles ?"
      ],
      "metadata": {
        "id": "-FTCXSvDy3oi"
      },
      "execution_count": null,
      "outputs": []
    },
    {
      "cell_type": "code",
      "source": [
        "epochs = 10\n",
        "for epoch in range(epochs):\n",
        "   print(f\"Epoch: {epoch+1} ...\")\n",
        "   train(train_dataloader, model, criterion, optimizer)"
      ],
      "metadata": {
        "colab": {
          "base_uri": "https://localhost:8080/"
        },
        "id": "NdBCSRJly6CS",
        "outputId": "6d22acbe-79d1-4870-951a-4e6a89cb918d"
      },
      "execution_count": null,
      "outputs": [
        {
          "output_type": "stream",
          "name": "stdout",
          "text": [
            "Epoch: 1 ...\n",
            "miaou\n",
            "Average loss: 1440.356567, accuracy: 0.00%\n",
            "Epoch: 2 ...\n",
            "miaou\n",
            "Average loss: 1274.121948, accuracy: 0.00%\n",
            "Epoch: 3 ...\n",
            "miaou\n",
            "Average loss: 1231.203369, accuracy: 0.00%\n",
            "Epoch: 4 ...\n",
            "miaou\n",
            "Average loss: 1204.216553, accuracy: 0.00%\n",
            "Epoch: 5 ...\n",
            "miaou\n",
            "Average loss: 1186.796753, accuracy: 0.00%\n",
            "Epoch: 6 ...\n",
            "miaou\n",
            "Average loss: 1174.345459, accuracy: 0.00%\n",
            "Epoch: 7 ...\n",
            "miaou\n",
            "Average loss: 1165.167358, accuracy: 0.00%\n",
            "Epoch: 8 ...\n",
            "miaou\n",
            "Average loss: 1156.634521, accuracy: 0.00%\n",
            "Epoch: 9 ...\n",
            "miaou\n",
            "Average loss: 1150.226562, accuracy: 0.00%\n",
            "Epoch: 10 ...\n",
            "miaou\n",
            "Average loss: 1143.660400, accuracy: 0.00%\n"
          ]
        }
      ]
    },
    {
      "cell_type": "code",
      "source": [
        "def test(test_loader, model, criterion):\n",
        "    model.eval()\n",
        "\n",
        "    num_batches = len(test_loader)\n",
        "    num_items = len(test_loader.dataset)\n",
        "\n",
        "    test_loss = 0\n",
        "    total_correct = 0\n",
        "\n",
        "    with torch.no_grad():\n",
        "        for data, target in test_loader:\n",
        "            target=model.flatt(data)\n",
        "            # Do a forward pass\n",
        "            output,mu,log_var = model(data)\n",
        "            # Calculate the loss\n",
        "            loss = criterion(output, target)\n",
        "            loss_kl=-0.5 * torch.sum(1 + log_var - mu.pow(2) - log_var.exp())\n",
        "            loss = criterion(output, target) + loss_kl\n",
        "\n",
        "            test_loss += loss\n",
        "\n",
        "        # Count number of correct digits\n",
        "\n",
        "        total_correct += correct(output,target)\n",
        "        test_loss += loss.item()\n",
        "\n",
        "            # Count number of correct digits\n",
        "        total_correct += correct(output, target)\n",
        "\n",
        "    train_loss = test_loss/(num_batches*28*28)\n",
        "    accuracy = total_correct/(num_items*28*28)\n",
        "\n",
        "    print(f\"Testset accuracy: {100*accuracy:>0.1f}%, average loss: {test_loss:>7f}\")"
      ],
      "metadata": {
        "id": "TIrEIGXzy882"
      },
      "execution_count": null,
      "outputs": []
    },
    {
      "cell_type": "code",
      "source": [
        "test(test_dataloader, model, criterion)"
      ],
      "metadata": {
        "id": "p_cQCTMUy_Me",
        "colab": {
          "base_uri": "https://localhost:8080/"
        },
        "outputId": "450cc451-0776-4187-e166-d3baf7af62ac"
      },
      "execution_count": null,
      "outputs": [
        {
          "output_type": "stream",
          "name": "stdout",
          "text": [
            "Testset accuracy: 0.0%, average loss: 358390.593750\n"
          ]
        }
      ]
    },
    {
      "cell_type": "code",
      "source": [
        "imageNum=20\n",
        "\n",
        "figure = plt.figure(figsize=(8, 8))\n",
        "cols, rows = 1,1\n",
        "for i in range(1, cols * rows + 1):\n",
        "    sample_idx = torch.randint(len(test_data), size=(1,)).item() #genere un index aleatoire\n",
        "    img, label = test_data[imageNum] #renvoie image + label (c que limage)\n",
        "    figure.add_subplot(rows, cols, i)\n",
        "    plt.title(label)\n",
        "    plt.axis(\"off\")\n",
        "    plt.imshow(img.squeeze(), cmap=\"gray\") #affiche l'image\n",
        "plt.show()\n",
        "\n",
        "\n",
        "figure = plt.figure(figsize=(8, 8))\n",
        "cols, rows = 1,1\n",
        "predis=np.array(model(test_data[imageNum][0])[0].tolist()).reshape(28,28)\n",
        "for i in range(1, cols * rows + 1):\n",
        "    sample_idx = torch.randint(len(test_data), size=(1,)).item() #genere un index aleatoire\n",
        "    img, label = (predis,label) #renvoie image + label (c que limage)\n",
        "    figure.add_subplot(rows, cols, i)\n",
        "    plt.title(label)\n",
        "    plt.axis(\"off\")\n",
        "    plt.imshow(img.squeeze(), cmap=\"gray\") #affiche l'image\n",
        "plt.show()"
      ],
      "metadata": {
        "id": "meQc0Y6kDLUw",
        "colab": {
          "base_uri": "https://localhost:8080/",
          "height": 1000
        },
        "outputId": "ba78e24f-4093-4750-8ae1-71803513ca7b"
      },
      "execution_count": null,
      "outputs": [
        {
          "output_type": "display_data",
          "data": {
            "text/plain": [
              "<Figure size 800x800 with 1 Axes>"
            ],
            "image/png": "[encoded data removed]"
          },
          "metadata": {}
        },
        {
          "output_type": "display_data",
          "data": {
            "text/plain": [
              "<Figure size 800x800 with 1 Axes>"
            ],
            "image/png": "[encoded data removed]"
          },
          "metadata": {}
        }
      ]
    },
    {
      "cell_type": "code",
      "source": [
        "def interpolate(model, data, num_interpolations=10):\n",
        "    model.eval()\n",
        "    with torch.no_grad():\n",
        "        # Sélectionner deux images aléatoires\n",
        "        img1, _ = data[0]\n",
        "        img2, _ = data[1]\n",
        "\n",
        "        # Encoder les images dans l'espace latent\n",
        "        x1= model.encoder(img1)\n",
        "        x2 = model.encoder(img2)\n",
        "\n",
        "        # Extraire mu et log_var pour chaque image\n",
        "        mu1 = model.mu(x1)\n",
        "        log_var1 = model.log_var(x1)\n",
        "        mu2 = model.mu(x2)\n",
        "        log_var2 = model.log_var(x2)\n",
        "\n",
        "        # Initialiser la liste pour stocker les images interpolées\n",
        "        interpolations = []\n",
        "\n",
        "        # Calculer les interpolations linéaires selon la formule spécifiée\n",
        "        for k in range(num_interpolations):\n",
        "            new_mu = mu1 + (k * (mu2 - mu1)) / num_interpolations\n",
        "            new_log_var = log_var1 + (k * (log_var2 - log_var1)) / num_interpolations\n",
        "            z = model.reparameterize(new_mu, new_log_var)\n",
        "            recon_img = model.decoder(z)\n",
        "            recon_img = recon_img.view(28, 28)\n",
        "            interpolations.append(recon_img.squeeze().numpy())\n",
        "\n",
        "        return interpolations\n",
        "\n",
        "# Interpolation entre deux images et affichage\n",
        "interpolations = interpolate(model, test_data, num_interpolations=10)\n",
        "\n",
        "plt.figure(figsize=(20, 4))\n",
        "for i, img in enumerate(interpolations):\n",
        "    ax = plt.subplot(1, 10, i + 1)\n",
        "    plt.imshow(img, cmap=\"gray\")\n",
        "    ax.axis('off')\n",
        "plt.show()\n"
      ],
      "metadata": {
        "id": "1IYYKeQYI7tC",
        "colab": {
          "base_uri": "https://localhost:8080/",
          "height": 153
        },
        "outputId": "3eebbd48-6e9d-489e-a271-16433d02b9c9"
      },
      "execution_count": null,
      "outputs": [
        {
          "output_type": "display_data",
          "data": {
            "text/plain": [
              "<Figure size 2000x400 with 10 Axes>"
            ],
            "image/png": "[encoded data removed]"
          },
          "metadata": {}
        }
      ]
    }
  ]
}