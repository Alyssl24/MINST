{
  "cells": [
    {
      "cell_type": "markdown",
      "metadata": {
        "id": "view-in-github",
        "colab_type": "text"
      },
      "source": [
        "<a href=\"https://colab.research.google.com/github/Alyssl24/MINST/blob/main/ClassifieurR%C3%A9seaudeNeurones.ipynb\" target=\"_parent\"><img src=\"https://colab.research.google.com/assets/colab-badge.svg\" alt=\"Open In Colab\"/></a>"
      ]
    },
    {
      "cell_type": "code",
      "execution_count": null,
      "metadata": {
        "id": "LoUgKRP7fgtI"
      },
      "outputs": [],
      "source": [
        "import torch\n",
        "from torch.utils.data import Dataset\n",
        "from torchvision import datasets\n",
        "from torchvision.transforms import ToTensor\n",
        "import matplotlib.pyplot as plt\n",
        "import torch.nn as nn\n",
        "import numpy as np\n",
        "import matplotlib.pyplot as plt\n",
        "import os\n"
      ]
    },
    {
      "cell_type": "code",
      "execution_count": null,
      "metadata": {
        "id": "ef46EM9Tfl5M",
        "colab": {
          "base_uri": "https://localhost:8080/"
        },
        "outputId": "ff45959b-6307-401b-8d15-a194323b268c"
      },
      "outputs": [
        {
          "output_type": "stream",
          "name": "stdout",
          "text": [
            "Downloading http://yann.lecun.com/exdb/mnist/train-images-idx3-ubyte.gz\n",
            "Failed to download (trying next):\n",
            "HTTP Error 403: Forbidden\n",
            "\n",
            "Downloading https://ossci-datasets.s3.amazonaws.com/mnist/train-images-idx3-ubyte.gz\n",
            "Downloading https://ossci-datasets.s3.amazonaws.com/mnist/train-images-idx3-ubyte.gz to data/MNIST/raw/train-images-idx3-ubyte.gz\n"
          ]
        },
        {
          "output_type": "stream",
          "name": "stderr",
          "text": [
            "100%|██████████| 9912422/9912422 [00:00<00:00, 54454892.27it/s]\n"
          ]
        },
        {
          "output_type": "stream",
          "name": "stdout",
          "text": [
            "Extracting data/MNIST/raw/train-images-idx3-ubyte.gz to data/MNIST/raw\n",
            "\n",
            "Downloading http://yann.lecun.com/exdb/mnist/train-labels-idx1-ubyte.gz\n",
            "Failed to download (trying next):\n",
            "HTTP Error 403: Forbidden\n",
            "\n",
            "Downloading https://ossci-datasets.s3.amazonaws.com/mnist/train-labels-idx1-ubyte.gz\n",
            "Downloading https://ossci-datasets.s3.amazonaws.com/mnist/train-labels-idx1-ubyte.gz to data/MNIST/raw/train-labels-idx1-ubyte.gz\n"
          ]
        },
        {
          "output_type": "stream",
          "name": "stderr",
          "text": [
            "100%|██████████| 28881/28881 [00:00<00:00, 1604786.36it/s]\n"
          ]
        },
        {
          "output_type": "stream",
          "name": "stdout",
          "text": [
            "Extracting data/MNIST/raw/train-labels-idx1-ubyte.gz to data/MNIST/raw\n",
            "\n",
            "Downloading http://yann.lecun.com/exdb/mnist/t10k-images-idx3-ubyte.gz\n",
            "Failed to download (trying next):\n",
            "HTTP Error 403: Forbidden\n",
            "\n",
            "Downloading https://ossci-datasets.s3.amazonaws.com/mnist/t10k-images-idx3-ubyte.gz\n",
            "Downloading https://ossci-datasets.s3.amazonaws.com/mnist/t10k-images-idx3-ubyte.gz to data/MNIST/raw/t10k-images-idx3-ubyte.gz\n"
          ]
        },
        {
          "output_type": "stream",
          "name": "stderr",
          "text": [
            "100%|██████████| 1648877/1648877 [00:00<00:00, 13388567.65it/s]\n"
          ]
        },
        {
          "output_type": "stream",
          "name": "stdout",
          "text": [
            "Extracting data/MNIST/raw/t10k-images-idx3-ubyte.gz to data/MNIST/raw\n",
            "\n",
            "Downloading http://yann.lecun.com/exdb/mnist/t10k-labels-idx1-ubyte.gz\n",
            "Failed to download (trying next):\n",
            "HTTP Error 403: Forbidden\n",
            "\n",
            "Downloading https://ossci-datasets.s3.amazonaws.com/mnist/t10k-labels-idx1-ubyte.gz\n",
            "Downloading https://ossci-datasets.s3.amazonaws.com/mnist/t10k-labels-idx1-ubyte.gz to data/MNIST/raw/t10k-labels-idx1-ubyte.gz\n"
          ]
        },
        {
          "output_type": "stream",
          "name": "stderr",
          "text": [
            "100%|██████████| 4542/4542 [00:00<00:00, 7836498.88it/s]"
          ]
        },
        {
          "output_type": "stream",
          "name": "stdout",
          "text": [
            "Extracting data/MNIST/raw/t10k-labels-idx1-ubyte.gz to data/MNIST/raw\n",
            "\n"
          ]
        },
        {
          "output_type": "stream",
          "name": "stderr",
          "text": [
            "\n"
          ]
        }
      ],
      "source": [
        "training_data = datasets.MNIST(\n",
        "    root=\"data\",\n",
        "    train=True,\n",
        "    download=True,\n",
        "    transform=ToTensor()\n",
        ")\n",
        "\n",
        "test_data = datasets.MNIST(\n",
        "    root=\"data\",\n",
        "    train=False,\n",
        "    download=True,\n",
        "    transform=ToTensor()\n",
        ")"
      ]
    },
    {
      "cell_type": "code",
      "execution_count": null,
      "metadata": {
        "id": "9g6YF10vfmFo"
      },
      "outputs": [],
      "source": [
        "from torch.utils.data import DataLoader #permet de parcourir\n",
        "batch_size_choose=32\n",
        "train_dataloader = DataLoader(training_data, batch_size=batch_size_choose, shuffle=True) #le shuffle permet de melanger le set de data\n",
        "test_dataloader = DataLoader(test_data, batch_size=batch_size_choose, shuffle=True)\n"
      ]
    },
    {
      "cell_type": "code",
      "execution_count": null,
      "metadata": {
        "id": "tppJxEbJuZKk"
      },
      "outputs": [],
      "source": []
    },
    {
      "cell_type": "code",
      "execution_count": null,
      "metadata": {
        "id": "6IYNS1OcfmIC"
      },
      "outputs": [],
      "source": []
    },
    {
      "cell_type": "code",
      "execution_count": null,
      "metadata": {
        "id": "uYxLHK2xfmKH"
      },
      "outputs": [],
      "source": [
        "#fonction qui verifie si c correct ou nn\n",
        "def correct(output, target):\n",
        "    predicted_digits = output.argmax(1)                            # pick digit with largest network output\n",
        "    correct_ones = (predicted_digits == target).type(torch.float)  # 1.0 for correct, 0.0 for incorrect\n",
        "    return correct_ones.sum().item()"
      ]
    },
    {
      "cell_type": "code",
      "execution_count": null,
      "metadata": {
        "id": "7_zMVzgdfmMc"
      },
      "outputs": [],
      "source": [
        "#boucle qui traite chaques lots de données (data et target sont des listes)\n",
        "#Notre BD est separé en lot par le dataloader(qui s\"appelle batch)\n",
        "#puis chaque batch est traite par ses boucles simultanées\n",
        "def train(data_loader, model, criterion, optimizer):\n",
        "    model.train()\n",
        "    num_batches = len(data_loader)\n",
        "    num_items = len(data_loader.dataset)\n",
        "\n",
        "    total_loss = 0\n",
        "    total_correct = 0\n",
        "    for data, target in data_loader:\n",
        "        # Do a forward pass\n",
        "        output = model(data)\n",
        "\n",
        "        # Calculate the loss\n",
        "        loss = criterion(output, target)\n",
        "        total_loss += loss\n",
        "\n",
        "        # Count number of correct digits\n",
        "\n",
        "        total_correct += correct(output, target)\n",
        "\n",
        "        # Backpropagation\n",
        "        loss.backward()\n",
        "        optimizer.step()\n",
        "        optimizer.zero_grad()\n",
        "\n",
        "    train_loss = total_loss/num_batches\n",
        "    accuracy = total_correct/num_items\n",
        "    print(f\"Average loss: {train_loss:7f}, accuracy: {accuracy:.2%}\")"
      ]
    },
    {
      "cell_type": "code",
      "execution_count": null,
      "metadata": {
        "id": "z08abYY1fmQw"
      },
      "outputs": [],
      "source": [
        "#version ou j'essaie de recup les couches\n",
        "from collections import OrderedDict as OrderedDict\n",
        "#ordered dict c un dico ordonnée mais jrv pas a recup les couches encores\n",
        "class SimpleMLP(nn.Module):\n",
        "    def __init__(self):\n",
        "\n",
        "        super().__init__()\n",
        "        self.flatt=nn.Flatten()\n",
        "        self.line1=nn.Linear(28*28, 255)\n",
        "        self.relu=nn.ReLU()\n",
        "        self.line2=nn.Linear(255,128)\n",
        "        self.line3=nn.Linear(128,2)\n",
        "        self.line4=nn.Linear(2, 10)\n",
        "        self.dim2=0;\n",
        "\n",
        "    def forward(self, x):\n",
        "\n",
        "        x=self.flatt(x)\n",
        "        x=self.relu(x)\n",
        "        x=self.line1(x)\n",
        "        x=self.relu(x)\n",
        "        x=self.line2(x)\n",
        "        x=self.relu(x)\n",
        "        x=self.line3(x)\n",
        "        x=self.relu(x)\n",
        "        self.dim2=x\n",
        "        x=self.line4(x)\n",
        "\n",
        "        return torch.nn.functional.softmax(x, dim = 1)\n",
        "\n",
        "    def forward_2dim(self,x):\n",
        "        self.forward(x)\n",
        "        return self.dim2"
      ]
    },
    {
      "cell_type": "code",
      "execution_count": null,
      "metadata": {
        "colab": {
          "base_uri": "https://localhost:8080/"
        },
        "id": "4_K0BONjumjl",
        "outputId": "36a8191c-1271-435b-d1f4-ceaa1ab23d47"
      },
      "outputs": [
        {
          "output_type": "stream",
          "name": "stdout",
          "text": [
            "SimpleMLP(\n",
            "  (flatt): Flatten(start_dim=1, end_dim=-1)\n",
            "  (line1): Linear(in_features=784, out_features=255, bias=True)\n",
            "  (relu): ReLU()\n",
            "  (line2): Linear(in_features=255, out_features=128, bias=True)\n",
            "  (line3): Linear(in_features=128, out_features=2, bias=True)\n",
            "  (line4): Linear(in_features=2, out_features=10, bias=True)\n",
            ")\n"
          ]
        }
      ],
      "source": [
        "#CREATION DE NOTRE MODELE\n",
        "model = SimpleMLP()\n",
        "print(model)"
      ]
    },
    {
      "cell_type": "code",
      "execution_count": null,
      "metadata": {
        "id": "lptQ1IqEulmN"
      },
      "outputs": [],
      "source": [
        "criterion = nn.CrossEntropyLoss()   #choix du meilleur critere d'erreur\n",
        "optimizer = torch.optim.Adam(model.parameters())"
      ]
    },
    {
      "cell_type": "code",
      "execution_count": null,
      "metadata": {
        "colab": {
          "base_uri": "https://localhost:8080/"
        },
        "id": "Gw34RCGwfmSz",
        "outputId": "15ac0c96-3bc4-4e5b-c2e6-a730cc31fe38"
      },
      "outputs": [
        {
          "output_type": "stream",
          "name": "stdout",
          "text": [
            "Epoch: 1 ...\n"
          ]
        }
      ],
      "source": [
        "epochs = 10\n",
        "for epoch in range(epochs):\n",
        "   print(f\"Epoch: {epoch+1} ...\")\n",
        "   train(train_dataloader, model, criterion, optimizer)"
      ]
    },
    {
      "cell_type": "code",
      "execution_count": null,
      "metadata": {
        "id": "IMkwPesR5wKf"
      },
      "outputs": [],
      "source": [
        "def test(test_loader, model, criterion):\n",
        "    model.eval()\n",
        "\n",
        "    num_batches = len(test_loader)\n",
        "    num_items = len(test_loader.dataset)\n",
        "\n",
        "    test_loss = 0\n",
        "    total_correct = 0\n",
        "\n",
        "    with torch.no_grad():\n",
        "        for data, target in test_loader:\n",
        "\n",
        "            # Do a forward pass\n",
        "            output = model(data)\n",
        "\n",
        "            # Calculate the loss\n",
        "            loss = torch.nn.functional.nll_loss(output, target)\n",
        "            test_loss += loss.item()\n",
        "\n",
        "            # Count number of correct digits\n",
        "            total_correct += correct(output, target)\n",
        "\n",
        "    test_loss = test_loss/num_batches\n",
        "    accuracy = total_correct/num_items\n",
        "\n",
        "    print(f\"Testset accuracy: {100*accuracy:>0.1f}%, average loss: {test_loss:>7f}\")"
      ]
    },
    {
      "cell_type": "code",
      "execution_count": null,
      "metadata": {
        "colab": {
          "base_uri": "https://localhost:8080/"
        },
        "id": "oveaXmxf5wj5",
        "outputId": "9b7af654-ab1c-44fc-e84e-ae485ae9716a"
      },
      "outputs": [
        {
          "output_type": "stream",
          "name": "stdout",
          "text": [
            "Testset accuracy: 95.4%, average loss: -0.951604\n"
          ]
        }
      ],
      "source": [
        "test(test_dataloader, model, criterion)"
      ]
    },
    {
      "cell_type": "code",
      "source": [
        "def liste_Couleur(cible):\n",
        "  liste_c=[]\n",
        "  for i in cible:\n",
        "    if i==0:\n",
        "      liste_c.append('#FF0000')\n",
        "    elif i==1:\n",
        "      liste_c.append( '#00FF00')\n",
        "    elif i==2:\n",
        "      liste_c.append( '#0000FF')\n",
        "    elif i==3:\n",
        "      liste_c.append( '#00FFFF')\n",
        "    elif i==4:\n",
        "      liste_c.append( '#FF00FF')\n",
        "    elif i==5:\n",
        "      liste_c.append('#FFC0CB')\n",
        "    elif i==6:\n",
        "      liste_c.append( '#FFFF00')\n",
        "    elif i==7:\n",
        "      liste_c.append( '#FFA500')\n",
        "    elif i==8:\n",
        "      liste_c.append('#800080')\n",
        "    else: #c 9\n",
        "      liste_c.append('#808080')\n",
        "  return liste_c\n",
        "\n",
        "def trouverTarget(tableau):\n",
        "     max=tableau[0]\n",
        "     maxi=0\n",
        "     for i in range(1,len(tableau)):\n",
        "         if tableau[i]>max:\n",
        "             maxi=i\n",
        "             max=tableau[i]\n",
        "     return maxi"
      ],
      "metadata": {
        "id": "B5CkBXBaAKmW"
      },
      "execution_count": null,
      "outputs": []
    },
    {
      "cell_type": "code",
      "execution_count": null,
      "metadata": {
        "id": "T3-YPxwTfmY2",
        "colab": {
          "base_uri": "https://localhost:8080/"
        },
        "outputId": "a01a8c9c-9710-4785-86c6-89be1bd3dcfc"
      },
      "outputs": [
        {
          "output_type": "stream",
          "name": "stdout",
          "text": [
            "10000\n"
          ]
        }
      ],
      "source": [
        "X=[]\n",
        "Y=[]\n",
        "res=[]\n",
        "resultat=[]\n",
        "targ_liste=[]\n",
        "for data,target in test_dataloader: #car dans dataloader c un tuple avec donnee,target\n",
        "    output = model.forward_2dim(data)\n",
        "    res = model.forward(data)\n",
        "    output=output.tolist()\n",
        "    targ_liste= targ_liste+ res.tolist()\n",
        "\n",
        "    for coord in output:\n",
        "        X.append(coord[0])\n",
        "        Y.append(coord[1])\n",
        "\n",
        "\n",
        "for r in targ_liste:\n",
        "  resultat.append(trouverTarget(r))\n",
        "print(len(resultat))"
      ]
    },
    {
      "cell_type": "code",
      "execution_count": null,
      "metadata": {
        "colab": {
          "base_uri": "https://localhost:8080/",
          "height": 448
        },
        "id": "f6nimSA36Bfd",
        "outputId": "0a2562ae-648f-4a54-db8e-f0d4eb89f155"
      },
      "outputs": [
        {
          "output_type": "execute_result",
          "data": {
            "text/plain": [
              "<matplotlib.collections.PathCollection at 0x7a059631b640>"
            ]
          },
          "metadata": {},
          "execution_count": 17
        },
        {
          "output_type": "display_data",
          "data": {
            "text/plain": [
              "<Figure size 640x480 with 1 Axes>"
            ],
            "image/png": "[encoded data removed]"
          },
          "metadata": {}
        }
      ],
      "source": [
        "import matplotlib.pyplot as plt\n",
        "\n",
        "list_c=liste_Couleur(resultat)\n",
        "\n",
        "\n",
        "plt.scatter(x=X,y=Y,c=list_c,alpha=0.1)"
      ]
    },
    {
      "cell_type": "code",
      "execution_count": null,
      "metadata": {
        "id": "d7zllee_fmfP"
      },
      "outputs": [],
      "source": []
    }
  ],
  "metadata": {
    "colab": {
      "provenance": [],
      "gpuType": "T4",
      "include_colab_link": true
    },
    "kernelspec": {
      "display_name": "Python 3",
      "name": "python3"
    },
    "language_info": {
      "name": "python"
    },
    "accelerator": "GPU"
  },
  "nbformat": 4,
  "nbformat_minor": 0
}