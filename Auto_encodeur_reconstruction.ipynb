{
  "cells": [
    {
      "cell_type": "markdown",
      "metadata": {
        "id": "view-in-github",
        "colab_type": "text"
      },
      "source": [
        "<a href=\"https://colab.research.google.com/github/Alyssl24/MINST/blob/main/Auto_encodeur_reconstruction.ipynb\" target=\"_parent\"><img src=\"https://colab.research.google.com/assets/colab-badge.svg\" alt=\"Open In Colab\"/></a>"
      ]
    },
    {
      "cell_type": "markdown",
      "metadata": {
        "id": "G1xlFsHcixM4"
      },
      "source": [
        "# PREPARATION DES DATALOADERS"
      ]
    },
    {
      "cell_type": "code",
      "execution_count": null,
      "metadata": {
        "id": "ANblTy3hSKVA"
      },
      "outputs": [],
      "source": [
        "import torch\n",
        "from torch.utils.data import Dataset\n",
        "from torchvision import datasets\n",
        "from torchvision.transforms import ToTensor\n",
        "import matplotlib.pyplot as plt\n",
        "import torch.nn as nn\n",
        "import numpy as np\n",
        "import matplotlib.pyplot as plt\n",
        "import os"
      ]
    },
    {
      "cell_type": "code",
      "execution_count": null,
      "metadata": {
        "id": "HI4GetRwSZNL",
        "colab": {
          "base_uri": "https://localhost:8080/"
        },
        "outputId": "891152b8-95d1-4988-97cf-b1fa60711ce5"
      },
      "outputs": [
        {
          "output_type": "stream",
          "name": "stdout",
          "text": [
            "Downloading http://fashion-mnist.s3-website.eu-central-1.amazonaws.com/train-images-idx3-ubyte.gz\n",
            "Downloading http://fashion-mnist.s3-website.eu-central-1.amazonaws.com/train-images-idx3-ubyte.gz to data/FashionMNIST/raw/train-images-idx3-ubyte.gz\n"
          ]
        },
        {
          "output_type": "stream",
          "name": "stderr",
          "text": [
            "100%|██████████| 26421880/26421880 [00:06<00:00, 4336795.34it/s]\n"
          ]
        },
        {
          "output_type": "stream",
          "name": "stdout",
          "text": [
            "Extracting data/FashionMNIST/raw/train-images-idx3-ubyte.gz to data/FashionMNIST/raw\n",
            "\n",
            "Downloading http://fashion-mnist.s3-website.eu-central-1.amazonaws.com/train-labels-idx1-ubyte.gz\n",
            "Downloading http://fashion-mnist.s3-website.eu-central-1.amazonaws.com/train-labels-idx1-ubyte.gz to data/FashionMNIST/raw/train-labels-idx1-ubyte.gz\n"
          ]
        },
        {
          "output_type": "stream",
          "name": "stderr",
          "text": [
            "100%|██████████| 29515/29515 [00:00<00:00, 207425.54it/s]\n"
          ]
        },
        {
          "output_type": "stream",
          "name": "stdout",
          "text": [
            "Extracting data/FashionMNIST/raw/train-labels-idx1-ubyte.gz to data/FashionMNIST/raw\n",
            "\n",
            "Downloading http://fashion-mnist.s3-website.eu-central-1.amazonaws.com/t10k-images-idx3-ubyte.gz\n",
            "Downloading http://fashion-mnist.s3-website.eu-central-1.amazonaws.com/t10k-images-idx3-ubyte.gz to data/FashionMNIST/raw/t10k-images-idx3-ubyte.gz\n"
          ]
        },
        {
          "output_type": "stream",
          "name": "stderr",
          "text": [
            "100%|██████████| 4422102/4422102 [00:01<00:00, 3782490.76it/s]\n"
          ]
        },
        {
          "output_type": "stream",
          "name": "stdout",
          "text": [
            "Extracting data/FashionMNIST/raw/t10k-images-idx3-ubyte.gz to data/FashionMNIST/raw\n",
            "\n",
            "Downloading http://fashion-mnist.s3-website.eu-central-1.amazonaws.com/t10k-labels-idx1-ubyte.gz\n",
            "Downloading http://fashion-mnist.s3-website.eu-central-1.amazonaws.com/t10k-labels-idx1-ubyte.gz to data/FashionMNIST/raw/t10k-labels-idx1-ubyte.gz\n"
          ]
        },
        {
          "output_type": "stream",
          "name": "stderr",
          "text": [
            "100%|██████████| 5148/5148 [00:00<00:00, 5872253.74it/s]"
          ]
        },
        {
          "output_type": "stream",
          "name": "stdout",
          "text": [
            "Extracting data/FashionMNIST/raw/t10k-labels-idx1-ubyte.gz to data/FashionMNIST/raw\n",
            "\n"
          ]
        },
        {
          "output_type": "stream",
          "name": "stderr",
          "text": [
            "\n"
          ]
        }
      ],
      "source": [
        "training_data = datasets.FashionMNIST(\n",
        "    root=\"data\",\n",
        "    train=True,\n",
        "    download=True,\n",
        "    transform=ToTensor()\n",
        ")\n",
        "\n",
        "test_data = datasets.FashionMNIST(\n",
        "    root=\"data\",\n",
        "    train=False,\n",
        "    download=True,\n",
        "    transform=ToTensor()\n",
        ")\n"
      ]
    },
    {
      "cell_type": "markdown",
      "source": [],
      "metadata": {
        "id": "db9hwgVsIgIf"
      }
    },
    {
      "cell_type": "code",
      "source": [
        "\n",
        "figure = plt.figure(figsize=(8, 8))\n",
        "cols, rows = 1,1\n",
        "for i in range(1, cols * rows + 1):\n",
        "    img,label = training_data[1]#renvoie image + label (c que limage)\n",
        "    figure.add_subplot(rows, cols, i)\n",
        "\n",
        "    plt.axis(\"off\")\n",
        "    plt.imshow(img.squeeze(), cmap=\"gray\") #affiche l'image\n",
        "plt.show()"
      ],
      "metadata": {
        "colab": {
          "base_uri": "https://localhost:8080/",
          "height": 653
        },
        "id": "YmEk2cBGuPra",
        "outputId": "b99fa9c5-0d39-44e3-cfcc-6916d92f31ae"
      },
      "execution_count": null,
      "outputs": [
        {
          "output_type": "display_data",
          "data": {
            "text/plain": [
              "<Figure size 800x800 with 1 Axes>"
            ],
            "image/png": "[encoded data removed]"
          },
          "metadata": {}
        }
      ]
    },
    {
      "cell_type": "markdown",
      "source": [
        "#DATALOADER"
      ],
      "metadata": {
        "id": "yYMlTSB_roML"
      }
    },
    {
      "cell_type": "code",
      "execution_count": null,
      "metadata": {
        "id": "6MndCxv0Sbtv"
      },
      "outputs": [],
      "source": [
        "from torch.utils.data import DataLoader #permet de parcourir\n",
        "batch_size_choose=32\n",
        "\n",
        "train_dataloader = DataLoader(training_data, batch_size=batch_size_choose, shuffle=True) #le shuffle permet de melanger le set de data\n",
        "test_dataloader = DataLoader(test_data, batch_size=batch_size_choose, shuffle=True)"
      ]
    },
    {
      "cell_type": "markdown",
      "metadata": {
        "id": "3KbQ7KBri7pg"
      },
      "source": [
        "# AUTO-ENCODEUR : espace latent 16"
      ]
    },
    {
      "cell_type": "code",
      "execution_count": null,
      "metadata": {
        "id": "BisKO_uVScKb"
      },
      "outputs": [],
      "source": [
        "#fonction qui verifie si c correct ou nn\n",
        "def correct(output, target):\n",
        "    return torch.sum(output == target).item()"
      ]
    },
    {
      "cell_type": "code",
      "execution_count": null,
      "metadata": {
        "id": "NFb5I8QrSmP0"
      },
      "outputs": [],
      "source": [
        "#boucle qui traite chaques lots de données (data et target sont des listes)\n",
        "#donc en gros notre BD est separer en lot par le dataloader(qui s\"appelle batch)\n",
        "#puis chaque batch est traite par ses boucles simulatné car c des numpys.\n",
        "\n",
        "def transformImage(img): #detruit une image ( on peut modifier la destruction ici)\n",
        "\n",
        "  img[:, : 28 // 2, :] = 0\n",
        "  return img\n",
        "\n",
        "def destructData(data): #detruit un ensemble d'image\n",
        "    newdata=data.clone()\n",
        "    i=0\n",
        "\n",
        "    for img in data:\n",
        "\n",
        "      img2=img.clone()\n",
        "      img2 =transformImage(img2)  # Remplace la moitié supérieure par des zéros\n",
        "      newdata[i]=img2\n",
        "      i+=1\n",
        "\n",
        "    return newdata\n",
        "\n",
        "\n",
        "\n",
        "\n",
        "def train(data_loader, model, criterion, optimizer):\n",
        "    model.train()\n",
        "    num_batches = len(data_loader)\n",
        "\n",
        "    total_loss = 0\n",
        "    total_correct = 0\n",
        "    i=0\n",
        "    for data, target in data_loader:\n",
        "        target=data\n",
        "        # Do a forward pass\n",
        "        dataDestruct=destructData(data) #detruit l'image avant de lancer le modele dessus\n",
        "        output = model(dataDestruct)\n",
        "\n",
        "        # Calculate the loss\n",
        "        target=model.flatt(target)\n",
        "        loss = criterion(output, target)\n",
        "\n",
        "        total_loss += loss\n",
        "\n",
        "        # Count number of correct digits\n",
        "\n",
        "        total_correct += correct(output,target)\n",
        "\n",
        "        # Backpropagation\n",
        "        loss.backward()\n",
        "        optimizer.step()\n",
        "        optimizer.zero_grad()\n",
        "        i+=1\n",
        "    print(\"miaou\")\n",
        "    train_loss = total_loss/num_batches\n",
        "    accuracy = total_correct/(25088*len(data_loader))  # 25088 = len(ouput)*len(ouput[0])\n",
        "    print(f\"Average loss: {train_loss:7f}, accuracy: {accuracy:.2%}\")"
      ]
    },
    {
      "cell_type": "code",
      "execution_count": null,
      "metadata": {
        "id": "mMbo2XCWSoGL"
      },
      "outputs": [],
      "source": [
        "\n",
        "import tensorflow as tf\n",
        "class autoencodeur(nn.Module):\n",
        "    def __init__(self):\n",
        "\n",
        "        super().__init__()\n",
        "        self.flatt=nn.Flatten()\n",
        "\n",
        "        self.line1=nn.Linear(28*28, 256)\n",
        "        self.relu=nn.ReLU()\n",
        "        self.line2=nn.Linear(256,64)\n",
        "        self.line5=nn.Linear(64,16)\n",
        "        self.line6=nn.Linear(16,64)\n",
        "        self.line3=nn.Linear(64,256)\n",
        "        self.line4=nn.Linear(256, 28*28)\n",
        "        self.dim2=0;\n",
        "        self.sig=nn.Sigmoid()\n",
        "\n",
        "    def encoder(self,x):\n",
        "        x=self.flatt(x)\n",
        "        x=self.line1(x)\n",
        "        x=self.relu(x)\n",
        "        x=self.line2(x)\n",
        "        x=self.relu(x)\n",
        "        x=self.line5(x)\n",
        "        x=self.relu(x)\n",
        "        return x\n",
        "    def decoder(self,x):\n",
        "        x=self.line6(x)\n",
        "        x=self.relu(x)\n",
        "        x=self.line3(x)\n",
        "        x=self.relu(x)\n",
        "        x=self.line4(x)\n",
        "        x=self.sig(x)\n",
        "        return x\n",
        "\n",
        "    def forward(self, x):\n",
        "       #x=nn.functional.normalize(x)\n",
        "        x=self.encoder(x)\n",
        "        x=self.decoder(x)\n",
        "        return x"
      ]
    },
    {
      "cell_type": "markdown",
      "metadata": {
        "id": "zZohvDYDjEbP"
      },
      "source": [
        "# CREATION ET ENTRAINEMENT DU MODELE"
      ]
    },
    {
      "cell_type": "code",
      "execution_count": null,
      "metadata": {
        "colab": {
          "base_uri": "https://localhost:8080/"
        },
        "id": "ao65mqzWSpp5",
        "outputId": "1ef3bb21-a41e-47d6-d30c-729bcf8e011a"
      },
      "outputs": [
        {
          "output_type": "stream",
          "name": "stdout",
          "text": [
            "SimpleMLP(\n",
            "  (flatt): Flatten(start_dim=1, end_dim=-1)\n",
            "  (line1): Linear(in_features=784, out_features=256, bias=True)\n",
            "  (relu): ReLU()\n",
            "  (line2): Linear(in_features=256, out_features=64, bias=True)\n",
            "  (line5): Linear(in_features=64, out_features=16, bias=True)\n",
            "  (line6): Linear(in_features=16, out_features=64, bias=True)\n",
            "  (line3): Linear(in_features=64, out_features=256, bias=True)\n",
            "  (line4): Linear(in_features=256, out_features=784, bias=True)\n",
            "  (sig): Sigmoid()\n",
            ")\n"
          ]
        }
      ],
      "source": [
        "#CREATION DE NOTRE MODELE\n",
        "model = autoencodeur()\n",
        "print(model)"
      ]
    },
    {
      "cell_type": "code",
      "execution_count": null,
      "metadata": {
        "id": "yUxacUv5SrDX"
      },
      "outputs": [],
      "source": [
        "criterion = nn.MSELoss(reduction='sum')    #pour l'instant on a choisit celle al est on a des bon resultat\n",
        "optimizer = torch.optim.Adam(model.parameters()) #on choisit lesquelles ?"
      ]
    },
    {
      "cell_type": "code",
      "execution_count": null,
      "metadata": {
        "colab": {
          "base_uri": "https://localhost:8080/"
        },
        "id": "1FQDaautSsoy",
        "outputId": "bd27a7d2-0110-4ee6-be29-6e73451dbd6f"
      },
      "outputs": [
        {
          "output_type": "stream",
          "name": "stdout",
          "text": [
            "Epoch: 1 ...\n",
            "miaou\n",
            "Average loss: 825.880554, accuracy: 0.00%\n",
            "Epoch: 2 ...\n",
            "miaou\n",
            "Average loss: 602.399170, accuracy: 0.00%\n",
            "Epoch: 3 ...\n",
            "miaou\n",
            "Average loss: 551.938538, accuracy: 0.00%\n",
            "Epoch: 4 ...\n",
            "miaou\n",
            "Average loss: 522.464233, accuracy: 0.00%\n",
            "Epoch: 5 ...\n",
            "miaou\n",
            "Average loss: 502.152222, accuracy: 0.00%\n",
            "Epoch: 6 ...\n",
            "miaou\n",
            "Average loss: 487.413666, accuracy: 0.00%\n",
            "Epoch: 7 ...\n",
            "miaou\n",
            "Average loss: 474.890015, accuracy: 0.00%\n",
            "Epoch: 8 ...\n",
            "miaou\n",
            "Average loss: 466.439728, accuracy: 0.00%\n",
            "Epoch: 9 ...\n",
            "miaou\n",
            "Average loss: 460.209259, accuracy: 0.00%\n",
            "Epoch: 10 ...\n",
            "miaou\n",
            "Average loss: 454.301941, accuracy: 0.00%\n"
          ]
        }
      ],
      "source": [
        "epochs = 10\n",
        "for epoch in range(epochs):\n",
        "   print(f\"Epoch: {epoch+1} ...\")\n",
        "   train(train_dataloader, model, criterion, optimizer)"
      ]
    },
    {
      "cell_type": "markdown",
      "metadata": {
        "id": "QZFfNzkEjO6g"
      },
      "source": [
        "# AFFICHAGE IMAGE RECONSTRUCTION\n"
      ]
    },
    {
      "cell_type": "code",
      "execution_count": null,
      "metadata": {
        "id": "Fc5tSjnvSxdm",
        "colab": {
          "base_uri": "https://localhost:8080/",
          "height": 1000
        },
        "outputId": "9eb9e8f1-7af7-4c70-ea92-8eb7742d9a7c"
      },
      "outputs": [
        {
          "output_type": "display_data",
          "data": {
            "text/plain": [
              "<Figure size 800x800 with 1 Axes>"
            ],
            "image/png": "[encoded data removed]"
          },
          "metadata": {}
        },
        {
          "output_type": "display_data",
          "data": {
            "text/plain": [
              "<Figure size 800x800 with 1 Axes>"
            ],
            "image/png": "[encoded data removed]"
          },
          "metadata": {}
        },
        {
          "output_type": "display_data",
          "data": {
            "text/plain": [
              "<Figure size 800x800 with 1 Axes>"
            ],
            "image/png": "[encoded data removed]"
          },
          "metadata": {}
        }
      ],
      "source": [
        "imageNum=563\n",
        "\n",
        "img=test_data[imageNum][0]\n",
        "figure = plt.figure(figsize=(8, 8))\n",
        "cols, rows = 1,1\n",
        "for i in range(1, cols * rows + 1):\n",
        "    sample_idx = torch.randint(len(test_data), size=(1,)).item() #genere un index aleatoire\n",
        "    figure.add_subplot(rows, cols, i)\n",
        "    plt.title(\"Image de base\")\n",
        "    plt.axis(\"off\")\n",
        "    plt.imshow(img.numpy().squeeze(), cmap=\"gray\") #affiche l'image\n",
        "plt.show()\n",
        "\n",
        "\n",
        "\n",
        "img=transformImage(test_data[imageNum][0]) #destruction de l'image pour lancer le modele dessus\n",
        "figure = plt.figure(figsize=(8, 8))\n",
        "cols, rows = 1,1\n",
        "for i in range(1, cols * rows + 1):\n",
        "    sample_idx = torch.randint(len(test_data), size=(1,)).item() #genere un index aleatoire\n",
        "    figure.add_subplot(rows, cols, i)\n",
        "    plt.title(\"Image détruite\")\n",
        "    plt.axis(\"off\")\n",
        "    plt.imshow(img.numpy().squeeze(), cmap=\"gray\") #affiche l'image\n",
        "plt.show()\n",
        "\n",
        "\n",
        "figure = plt.figure(figsize=(8, 8))\n",
        "cols, rows = 1,1\n",
        "\n",
        "\n",
        "predis=np.array(model.forward(test_data[imageNum][0]).tolist()).reshape(28,28)\n",
        "for i in range(1, cols * rows + 1):\n",
        "    sample_idx = torch.randint(len(test_data), size=(1,)).item() #genere un index aleatoire\n",
        "    img=predis\n",
        "    figure.add_subplot(rows, cols, i)\n",
        "    plt.title(\"Image reconstruite\")\n",
        "    plt.axis(\"off\")\n",
        "    plt.imshow(img.squeeze(), cmap=\"gray\") #affiche l'image\n",
        "plt.show()"
      ]
    }
  ],
  "metadata": {
    "accelerator": "GPU",
    "colab": {
      "gpuType": "T4",
      "provenance": [],
      "include_colab_link": true
    },
    "kernelspec": {
      "display_name": "Python 3",
      "name": "python3"
    },
    "language_info": {
      "name": "python"
    }
  },
  "nbformat": 4,
  "nbformat_minor": 0
}